{
  "nbformat": 4,
  "nbformat_minor": 0,
  "metadata": {
    "colab": {
      "provenance": [],
      "gpuType": "T4",
      "authorship_tag": "ABX9TyNDfD2m7OOHUezGkhvr4RRZ",
      "include_colab_link": true
    },
    "kernelspec": {
      "name": "python3",
      "display_name": "Python 3"
    },
    "language_info": {
      "name": "python"
    },
    "accelerator": "GPU"
  },
  "cells": [
    {
      "cell_type": "markdown",
      "metadata": {
        "id": "view-in-github",
        "colab_type": "text"
      },
      "source": [
        "<a href=\"https://colab.research.google.com/github/ramalahamir/image_classification_using_CNN/blob/main/Natural_scenes_image_classification.ipynb\" target=\"_parent\"><img src=\"https://colab.research.google.com/assets/colab-badge.svg\" alt=\"Open In Colab\"/></a>"
      ]
    },
    {
      "cell_type": "markdown",
      "source": [
        "# Importing datset from Kaggle\n"
      ],
      "metadata": {
        "id": "4ZiTBEYkswXF"
      }
    },
    {
      "cell_type": "code",
      "execution_count": 24,
      "metadata": {
        "id": "_SSIr2SWwzSb",
        "colab": {
          "base_uri": "https://localhost:8080/"
        },
        "outputId": "bc6a2409-9a28-4e0c-fcb2-aa72f6435cfd"
      },
      "outputs": [
        {
          "output_type": "stream",
          "name": "stdout",
          "text": [
            "Requirement already satisfied: kaggle in /usr/local/lib/python3.11/dist-packages (1.7.4.5)\n",
            "Requirement already satisfied: bleach in /usr/local/lib/python3.11/dist-packages (from kaggle) (6.2.0)\n",
            "Requirement already satisfied: certifi>=14.05.14 in /usr/local/lib/python3.11/dist-packages (from kaggle) (2025.6.15)\n",
            "Requirement already satisfied: charset-normalizer in /usr/local/lib/python3.11/dist-packages (from kaggle) (3.4.2)\n",
            "Requirement already satisfied: idna in /usr/local/lib/python3.11/dist-packages (from kaggle) (3.10)\n",
            "Requirement already satisfied: protobuf in /usr/local/lib/python3.11/dist-packages (from kaggle) (5.29.5)\n",
            "Requirement already satisfied: python-dateutil>=2.5.3 in /usr/local/lib/python3.11/dist-packages (from kaggle) (2.9.0.post0)\n",
            "Requirement already satisfied: python-slugify in /usr/local/lib/python3.11/dist-packages (from kaggle) (8.0.4)\n",
            "Requirement already satisfied: requests in /usr/local/lib/python3.11/dist-packages (from kaggle) (2.32.3)\n",
            "Requirement already satisfied: setuptools>=21.0.0 in /usr/local/lib/python3.11/dist-packages (from kaggle) (75.2.0)\n",
            "Requirement already satisfied: six>=1.10 in /usr/local/lib/python3.11/dist-packages (from kaggle) (1.17.0)\n",
            "Requirement already satisfied: text-unidecode in /usr/local/lib/python3.11/dist-packages (from kaggle) (1.3)\n",
            "Requirement already satisfied: tqdm in /usr/local/lib/python3.11/dist-packages (from kaggle) (4.67.1)\n",
            "Requirement already satisfied: urllib3>=1.15.1 in /usr/local/lib/python3.11/dist-packages (from kaggle) (2.4.0)\n",
            "Requirement already satisfied: webencodings in /usr/local/lib/python3.11/dist-packages (from kaggle) (0.5.1)\n"
          ]
        }
      ],
      "source": [
        "! pip install kaggle"
      ]
    },
    {
      "cell_type": "code",
      "source": [
        "from google.colab import files\n",
        "files.upload()"
      ],
      "metadata": {
        "colab": {
          "base_uri": "https://localhost:8080/",
          "height": 90
        },
        "id": "dM-PolCvzmQ7",
        "outputId": "efd9576c-f666-436a-91f0-fb8d5086616c"
      },
      "execution_count": 25,
      "outputs": [
        {
          "output_type": "display_data",
          "data": {
            "text/plain": [
              "<IPython.core.display.HTML object>"
            ],
            "text/html": [
              "\n",
              "     <input type=\"file\" id=\"files-78a6f1fb-1297-4bd0-ac8a-96951302e31f\" name=\"files[]\" multiple disabled\n",
              "        style=\"border:none\" />\n",
              "     <output id=\"result-78a6f1fb-1297-4bd0-ac8a-96951302e31f\">\n",
              "      Upload widget is only available when the cell has been executed in the\n",
              "      current browser session. Please rerun this cell to enable.\n",
              "      </output>\n",
              "      <script>// Copyright 2017 Google LLC\n",
              "//\n",
              "// Licensed under the Apache License, Version 2.0 (the \"License\");\n",
              "// you may not use this file except in compliance with the License.\n",
              "// You may obtain a copy of the License at\n",
              "//\n",
              "//      http://www.apache.org/licenses/LICENSE-2.0\n",
              "//\n",
              "// Unless required by applicable law or agreed to in writing, software\n",
              "// distributed under the License is distributed on an \"AS IS\" BASIS,\n",
              "// WITHOUT WARRANTIES OR CONDITIONS OF ANY KIND, either express or implied.\n",
              "// See the License for the specific language governing permissions and\n",
              "// limitations under the License.\n",
              "\n",
              "/**\n",
              " * @fileoverview Helpers for google.colab Python module.\n",
              " */\n",
              "(function(scope) {\n",
              "function span(text, styleAttributes = {}) {\n",
              "  const element = document.createElement('span');\n",
              "  element.textContent = text;\n",
              "  for (const key of Object.keys(styleAttributes)) {\n",
              "    element.style[key] = styleAttributes[key];\n",
              "  }\n",
              "  return element;\n",
              "}\n",
              "\n",
              "// Max number of bytes which will be uploaded at a time.\n",
              "const MAX_PAYLOAD_SIZE = 100 * 1024;\n",
              "\n",
              "function _uploadFiles(inputId, outputId) {\n",
              "  const steps = uploadFilesStep(inputId, outputId);\n",
              "  const outputElement = document.getElementById(outputId);\n",
              "  // Cache steps on the outputElement to make it available for the next call\n",
              "  // to uploadFilesContinue from Python.\n",
              "  outputElement.steps = steps;\n",
              "\n",
              "  return _uploadFilesContinue(outputId);\n",
              "}\n",
              "\n",
              "// This is roughly an async generator (not supported in the browser yet),\n",
              "// where there are multiple asynchronous steps and the Python side is going\n",
              "// to poll for completion of each step.\n",
              "// This uses a Promise to block the python side on completion of each step,\n",
              "// then passes the result of the previous step as the input to the next step.\n",
              "function _uploadFilesContinue(outputId) {\n",
              "  const outputElement = document.getElementById(outputId);\n",
              "  const steps = outputElement.steps;\n",
              "\n",
              "  const next = steps.next(outputElement.lastPromiseValue);\n",
              "  return Promise.resolve(next.value.promise).then((value) => {\n",
              "    // Cache the last promise value to make it available to the next\n",
              "    // step of the generator.\n",
              "    outputElement.lastPromiseValue = value;\n",
              "    return next.value.response;\n",
              "  });\n",
              "}\n",
              "\n",
              "/**\n",
              " * Generator function which is called between each async step of the upload\n",
              " * process.\n",
              " * @param {string} inputId Element ID of the input file picker element.\n",
              " * @param {string} outputId Element ID of the output display.\n",
              " * @return {!Iterable<!Object>} Iterable of next steps.\n",
              " */\n",
              "function* uploadFilesStep(inputId, outputId) {\n",
              "  const inputElement = document.getElementById(inputId);\n",
              "  inputElement.disabled = false;\n",
              "\n",
              "  const outputElement = document.getElementById(outputId);\n",
              "  outputElement.innerHTML = '';\n",
              "\n",
              "  const pickedPromise = new Promise((resolve) => {\n",
              "    inputElement.addEventListener('change', (e) => {\n",
              "      resolve(e.target.files);\n",
              "    });\n",
              "  });\n",
              "\n",
              "  const cancel = document.createElement('button');\n",
              "  inputElement.parentElement.appendChild(cancel);\n",
              "  cancel.textContent = 'Cancel upload';\n",
              "  const cancelPromise = new Promise((resolve) => {\n",
              "    cancel.onclick = () => {\n",
              "      resolve(null);\n",
              "    };\n",
              "  });\n",
              "\n",
              "  // Wait for the user to pick the files.\n",
              "  const files = yield {\n",
              "    promise: Promise.race([pickedPromise, cancelPromise]),\n",
              "    response: {\n",
              "      action: 'starting',\n",
              "    }\n",
              "  };\n",
              "\n",
              "  cancel.remove();\n",
              "\n",
              "  // Disable the input element since further picks are not allowed.\n",
              "  inputElement.disabled = true;\n",
              "\n",
              "  if (!files) {\n",
              "    return {\n",
              "      response: {\n",
              "        action: 'complete',\n",
              "      }\n",
              "    };\n",
              "  }\n",
              "\n",
              "  for (const file of files) {\n",
              "    const li = document.createElement('li');\n",
              "    li.append(span(file.name, {fontWeight: 'bold'}));\n",
              "    li.append(span(\n",
              "        `(${file.type || 'n/a'}) - ${file.size} bytes, ` +\n",
              "        `last modified: ${\n",
              "            file.lastModifiedDate ? file.lastModifiedDate.toLocaleDateString() :\n",
              "                                    'n/a'} - `));\n",
              "    const percent = span('0% done');\n",
              "    li.appendChild(percent);\n",
              "\n",
              "    outputElement.appendChild(li);\n",
              "\n",
              "    const fileDataPromise = new Promise((resolve) => {\n",
              "      const reader = new FileReader();\n",
              "      reader.onload = (e) => {\n",
              "        resolve(e.target.result);\n",
              "      };\n",
              "      reader.readAsArrayBuffer(file);\n",
              "    });\n",
              "    // Wait for the data to be ready.\n",
              "    let fileData = yield {\n",
              "      promise: fileDataPromise,\n",
              "      response: {\n",
              "        action: 'continue',\n",
              "      }\n",
              "    };\n",
              "\n",
              "    // Use a chunked sending to avoid message size limits. See b/62115660.\n",
              "    let position = 0;\n",
              "    do {\n",
              "      const length = Math.min(fileData.byteLength - position, MAX_PAYLOAD_SIZE);\n",
              "      const chunk = new Uint8Array(fileData, position, length);\n",
              "      position += length;\n",
              "\n",
              "      const base64 = btoa(String.fromCharCode.apply(null, chunk));\n",
              "      yield {\n",
              "        response: {\n",
              "          action: 'append',\n",
              "          file: file.name,\n",
              "          data: base64,\n",
              "        },\n",
              "      };\n",
              "\n",
              "      let percentDone = fileData.byteLength === 0 ?\n",
              "          100 :\n",
              "          Math.round((position / fileData.byteLength) * 100);\n",
              "      percent.textContent = `${percentDone}% done`;\n",
              "\n",
              "    } while (position < fileData.byteLength);\n",
              "  }\n",
              "\n",
              "  // All done.\n",
              "  yield {\n",
              "    response: {\n",
              "      action: 'complete',\n",
              "    }\n",
              "  };\n",
              "}\n",
              "\n",
              "scope.google = scope.google || {};\n",
              "scope.google.colab = scope.google.colab || {};\n",
              "scope.google.colab._files = {\n",
              "  _uploadFiles,\n",
              "  _uploadFilesContinue,\n",
              "};\n",
              "})(self);\n",
              "</script> "
            ]
          },
          "metadata": {}
        },
        {
          "output_type": "stream",
          "name": "stdout",
          "text": [
            "Saving kaggle.json to kaggle.json\n"
          ]
        },
        {
          "output_type": "execute_result",
          "data": {
            "text/plain": [
              "{'kaggle.json': b'{\"username\":\"ramalahamir\",\"key\":\"4bd49f59fcb670513208fcb32748b297\"}'}"
            ]
          },
          "metadata": {},
          "execution_count": 25
        }
      ]
    },
    {
      "cell_type": "code",
      "source": [
        "!mkdir -p ~/.kaggle\n",
        "!mv kaggle.json ~/.kaggle/\n",
        "!chmod 600 ~/.kaggle/kaggle.json"
      ],
      "metadata": {
        "id": "RxFPEpgS0G1n"
      },
      "execution_count": 26,
      "outputs": []
    },
    {
      "cell_type": "code",
      "source": [
        "!kaggle datasets download -d puneet6060/intel-image-classification"
      ],
      "metadata": {
        "colab": {
          "base_uri": "https://localhost:8080/"
        },
        "id": "l3DMVm7C1eU9",
        "outputId": "c76285a0-3341-4f51-9366-d463ec772c64"
      },
      "execution_count": 27,
      "outputs": [
        {
          "output_type": "stream",
          "name": "stdout",
          "text": [
            "Dataset URL: https://www.kaggle.com/datasets/puneet6060/intel-image-classification\n",
            "License(s): copyright-authors\n",
            "intel-image-classification.zip: Skipping, found more recently modified local copy (use --force to force download)\n"
          ]
        }
      ]
    },
    {
      "cell_type": "code",
      "source": [
        "!unzip intel-image-classification.zip -d intel-image-classification"
      ],
      "metadata": {
        "colab": {
          "base_uri": "https://localhost:8080/"
        },
        "id": "OnrtR_Po2Yrx",
        "outputId": "7b92525f-9f1d-4e40-e83c-e8318f6d2b3d"
      },
      "execution_count": 28,
      "outputs": [
        {
          "output_type": "stream",
          "name": "stdout",
          "text": [
            "Archive:  intel-image-classification.zip\n",
            "replace intel-image-classification/seg_pred/seg_pred/10004.jpg? [y]es, [n]o, [A]ll, [N]one, [r]ename: "
          ]
        }
      ]
    },
    {
      "cell_type": "markdown",
      "source": [
        "# Making our own mini CNN"
      ],
      "metadata": {
        "id": "5UYMajfXs2Lm"
      }
    },
    {
      "cell_type": "code",
      "source": [
        "import torch\n",
        "import torch.nn as nn\n",
        "import torch.optim as op\n",
        "from torchvision import transforms, datasets\n",
        "from torch.utils.data import DataLoader\n",
        "import matplotlib.pyplot as plt\n",
        "import numpy as np"
      ],
      "metadata": {
        "id": "kTOXn-G34TXj"
      },
      "execution_count": 29,
      "outputs": []
    },
    {
      "cell_type": "markdown",
      "source": [
        "## Prepping our datasets:"
      ],
      "metadata": {
        "id": "o5F08tF21jT4"
      }
    },
    {
      "cell_type": "code",
      "source": [
        "# making our image transformer\n",
        "transformed = transforms.Compose([\n",
        "    transforms.Resize((128,128)),\n",
        "    transforms.RandomHorizontalFlip(),\n",
        "    transforms.RandomVerticalFlip(),\n",
        "    transforms.RandomRotation(20),\n",
        "    transforms.ToTensor(),\n",
        "    transforms.Normalize([0.5, 0.5, 0.5], [0.5, 0.5, 0.5])\n",
        "])"
      ],
      "metadata": {
        "id": "gsQ1I5EmtimG"
      },
      "execution_count": 30,
      "outputs": []
    },
    {
      "cell_type": "code",
      "source": [
        "train_path = \"/content/intel-image-classification/seg_train/seg_train\"\n",
        "test_path = \"/content/intel-image-classification/seg_test/seg_test\""
      ],
      "metadata": {
        "id": "2SFlx3bavfsE"
      },
      "execution_count": 31,
      "outputs": []
    },
    {
      "cell_type": "code",
      "source": [
        "train_dataset = datasets.ImageFolder(root = train_path, transform = transformed)\n",
        "test_dataset = datasets.ImageFolder(root = test_path, transform = transformed)"
      ],
      "metadata": {
        "id": "yB9OEbHnvvbG"
      },
      "execution_count": 32,
      "outputs": []
    },
    {
      "cell_type": "code",
      "source": [
        "print(train_dataset.classes)"
      ],
      "metadata": {
        "colab": {
          "base_uri": "https://localhost:8080/"
        },
        "id": "Z1WGgA4JyG2R",
        "outputId": "a95ab85f-19f1-469a-e7b9-42f06bbd0ac7"
      },
      "execution_count": 33,
      "outputs": [
        {
          "output_type": "stream",
          "name": "stdout",
          "text": [
            "['buildings', 'forest', 'glacier', 'mountain', 'sea', 'street']\n"
          ]
        }
      ]
    },
    {
      "cell_type": "code",
      "source": [
        "print(train_dataset.class_to_idx)"
      ],
      "metadata": {
        "colab": {
          "base_uri": "https://localhost:8080/"
        },
        "id": "rzk10xwkyM1L",
        "outputId": "096b526a-7459-4e91-dbdd-c9e9cee3c35d"
      },
      "execution_count": 34,
      "outputs": [
        {
          "output_type": "stream",
          "name": "stdout",
          "text": [
            "{'buildings': 0, 'forest': 1, 'glacier': 2, 'mountain': 3, 'sea': 4, 'street': 5}\n"
          ]
        }
      ]
    },
    {
      "cell_type": "markdown",
      "source": [
        "## checking if our data is balanced"
      ],
      "metadata": {
        "id": "i7Ja7XhneZ-y"
      }
    },
    {
      "cell_type": "code",
      "source": [
        "from collections import Counter"
      ],
      "metadata": {
        "id": "gc1Wl6DGee3r"
      },
      "execution_count": 35,
      "outputs": []
    },
    {
      "cell_type": "code",
      "source": [
        "print(Counter(train_dataset.targets))"
      ],
      "metadata": {
        "colab": {
          "base_uri": "https://localhost:8080/"
        },
        "id": "mBlxKxTdenCv",
        "outputId": "eeca750e-e556-4495-cdf4-f4aad46a2af0"
      },
      "execution_count": 36,
      "outputs": [
        {
          "output_type": "stream",
          "name": "stdout",
          "text": [
            "Counter({3: 2512, 2: 2404, 5: 2382, 4: 2274, 1: 2271, 0: 2191})\n"
          ]
        }
      ]
    },
    {
      "cell_type": "code",
      "source": [
        "print(Counter(test_dataset.targets))"
      ],
      "metadata": {
        "colab": {
          "base_uri": "https://localhost:8080/"
        },
        "id": "cSbW_zj1fR6v",
        "outputId": "57126e70-1752-4d18-e610-430ec523acfd"
      },
      "execution_count": 37,
      "outputs": [
        {
          "output_type": "stream",
          "name": "stdout",
          "text": [
            "Counter({2: 553, 3: 525, 4: 510, 5: 501, 1: 474, 0: 437})\n"
          ]
        }
      ]
    },
    {
      "cell_type": "markdown",
      "source": [
        "data is balanced!"
      ],
      "metadata": {
        "id": "V5fMA0GYfmKZ"
      }
    },
    {
      "cell_type": "code",
      "source": [
        "# making batches\n",
        "training_batches = DataLoader(train_dataset, batch_size = 32, shuffle = True)\n",
        "testing_batches = DataLoader(test_dataset, batch_size = 32)"
      ],
      "metadata": {
        "id": "CpPBaVuYyVBw"
      },
      "execution_count": 38,
      "outputs": []
    },
    {
      "cell_type": "markdown",
      "source": [
        "## Defining our CNN:"
      ],
      "metadata": {
        "id": "iL4J9RNe1qe0"
      }
    },
    {
      "cell_type": "code",
      "source": [
        "class my_CNN(nn.Module):\n",
        "   def __init__(self):\n",
        "      super().__init__()\n",
        "\n",
        "      self.my_model = nn.Sequential(\n",
        "          # layer 1:\n",
        "          nn.Conv2d(in_channels = 3, out_channels = 32, kernel_size = (3,3), padding = 1),\n",
        "          nn.BatchNorm2d(32),\n",
        "          nn.ReLU(),\n",
        "          nn.MaxPool2d(kernel_size = (2,2), stride = 2),\n",
        "          # output feature map size: 64x64x32\n",
        "\n",
        "          # layer 2:\n",
        "          nn.Conv2d(32, 64, 3, padding = 1),\n",
        "          nn.BatchNorm2d(64),\n",
        "          nn.ReLU(),\n",
        "          nn.MaxPool2d(2,2),\n",
        "          # output feature map size: 32x32x64\n",
        "\n",
        "          # flattening for the neural network\n",
        "          nn.Flatten(),\n",
        "          # neural network layers (making 3 layers)\n",
        "          nn.Linear(in_features = 32*32*64, out_features = 128),\n",
        "          nn.BatchNorm1d(128),\n",
        "          nn.ReLU(),\n",
        "          nn.Linear(128, 64),\n",
        "          nn.BatchNorm1d(64),\n",
        "          nn.ReLU(),\n",
        "          nn.Linear(64, 6),    # since 6 classes\n",
        "\n",
        "          nn.Dropout(0.3)\n",
        "      )\n",
        "\n",
        "   def forward(self, image_batch):\n",
        "     return self.my_model(image_batch)"
      ],
      "metadata": {
        "id": "gyf-3qWx1ORs"
      },
      "execution_count": 39,
      "outputs": []
    },
    {
      "cell_type": "markdown",
      "source": [
        "## Training the model"
      ],
      "metadata": {
        "id": "GRuZeZvUAll7"
      }
    },
    {
      "cell_type": "code",
      "source": [
        "miniCnn = my_CNN()\n",
        "miniCnn.device = torch.device(\"cuda\" if torch.cuda.is_available() else \"cpu\")\n",
        "miniCnn.to(miniCnn.device)\n",
        "loss_func = nn.CrossEntropyLoss()\n",
        "optimizer = op.Adam(miniCnn.parameters(), lr = 0.0001)"
      ],
      "metadata": {
        "id": "71XRH6VlAjtf"
      },
      "execution_count": 40,
      "outputs": []
    },
    {
      "cell_type": "code",
      "source": [
        "print(\"Using device:\", miniCnn.device)\n"
      ],
      "metadata": {
        "id": "LPTIHwFxuKTC",
        "outputId": "59baf784-9a76-41a2-a214-8a85b5aac6d5",
        "colab": {
          "base_uri": "https://localhost:8080/"
        }
      },
      "execution_count": 41,
      "outputs": [
        {
          "output_type": "stream",
          "name": "stdout",
          "text": [
            "Using device: cuda\n"
          ]
        }
      ]
    },
    {
      "cell_type": "code",
      "source": [
        "counter = 0\n",
        "patience = 10\n",
        "best_acc = 0\n",
        "\n",
        "for epoch in range(50):\n",
        "\n",
        "  miniCnn.train()\n",
        "  total_loss = 0\n",
        "\n",
        "  for images, labels in training_batches:\n",
        "    images, labels = images.to(miniCnn.device), labels.to(miniCnn.device)\n",
        "\n",
        "    optimizer.zero_grad()\n",
        "    outputs = miniCnn(images)\n",
        "    loss = loss_func(outputs, labels)\n",
        "    loss.backward()\n",
        "    optimizer.step()\n",
        "\n",
        "    total_loss += loss.item()\n",
        "\n",
        "  # validating the model\n",
        "  miniCnn.eval()\n",
        "  correct = 0\n",
        "  total = 0\n",
        "\n",
        "  with torch.no_grad():\n",
        "    for images, labels in testing_batches:\n",
        "      images, labels = images.to(miniCnn.device), labels.to(miniCnn.device)\n",
        "\n",
        "      outputs = miniCnn(images)   # getting a tensor of class scores\n",
        "      _, predicted = torch.max(outputs.data, 1)   # finding the max along horizontal axis\n",
        "      total += labels.size(0)  # getting the batch size\n",
        "      correct += (predicted == labels).sum().item()\n",
        "\n",
        "  accuracy = 100*correct/total\n",
        "  print(f\"Epoch: \", {epoch}, \" loss: \", {total_loss}, \" accuracy: \", {accuracy})\n",
        "\n",
        "  if accuracy > best_acc:\n",
        "    best_acc = accuracy\n",
        "    counter = 0\n",
        "    torch.save(miniCnn.state_dict(), \"best_model.pth\")\n",
        "  else:\n",
        "    counter += 1\n",
        "    if counter >= patience:\n",
        "      print(\"Early stopping triggered\")\n",
        "      break"
      ],
      "metadata": {
        "id": "qej7cnzpGFCn",
        "colab": {
          "base_uri": "https://localhost:8080/"
        },
        "outputId": "68c805a4-9dea-4e2e-9716-5b80054f655b"
      },
      "execution_count": 42,
      "outputs": [
        {
          "output_type": "stream",
          "name": "stdout",
          "text": [
            "Epoch:  {0}  loss:  {559.6490975618362}  accuracy:  {67.43333333333334}\n",
            "Epoch:  {1}  loss:  {473.0345444083214}  accuracy:  {72.93333333333334}\n",
            "Epoch:  {2}  loss:  {442.00768303871155}  accuracy:  {72.53333333333333}\n",
            "Epoch:  {3}  loss:  {421.3404833674431}  accuracy:  {73.9}\n",
            "Epoch:  {4}  loss:  {404.8260888457298}  accuracy:  {75.76666666666667}\n",
            "Epoch:  {5}  loss:  {391.1471453011036}  accuracy:  {77.03333333333333}\n",
            "Epoch:  {6}  loss:  {382.8636432290077}  accuracy:  {77.43333333333334}\n",
            "Epoch:  {7}  loss:  {376.70397022366524}  accuracy:  {77.2}\n",
            "Epoch:  {8}  loss:  {369.2402574121952}  accuracy:  {79.9}\n",
            "Epoch:  {9}  loss:  {361.32510259747505}  accuracy:  {78.8}\n",
            "Epoch:  {10}  loss:  {354.93319845199585}  accuracy:  {79.26666666666667}\n",
            "Epoch:  {11}  loss:  {350.4075959920883}  accuracy:  {77.66666666666667}\n",
            "Epoch:  {12}  loss:  {344.74321565032005}  accuracy:  {80.66666666666667}\n",
            "Epoch:  {13}  loss:  {345.6474344730377}  accuracy:  {80.86666666666666}\n",
            "Epoch:  {14}  loss:  {335.903048992157}  accuracy:  {80.86666666666666}\n",
            "Epoch:  {15}  loss:  {334.2447882592678}  accuracy:  {79.26666666666667}\n",
            "Epoch:  {16}  loss:  {330.47744551301}  accuracy:  {80.4}\n",
            "Epoch:  {17}  loss:  {322.4629703760147}  accuracy:  {81.56666666666666}\n",
            "Epoch:  {18}  loss:  {319.2709758877754}  accuracy:  {81.2}\n",
            "Epoch:  {19}  loss:  {318.0713703632355}  accuracy:  {80.53333333333333}\n",
            "Epoch:  {20}  loss:  {313.7899890244007}  accuracy:  {81.0}\n",
            "Epoch:  {21}  loss:  {310.7360215187073}  accuracy:  {80.1}\n",
            "Epoch:  {22}  loss:  {308.10640519857407}  accuracy:  {82.03333333333333}\n",
            "Epoch:  {23}  loss:  {306.4482763707638}  accuracy:  {83.03333333333333}\n",
            "Epoch:  {24}  loss:  {301.74321073293686}  accuracy:  {82.03333333333333}\n",
            "Epoch:  {25}  loss:  {301.1968602836132}  accuracy:  {81.33333333333333}\n",
            "Epoch:  {26}  loss:  {301.2944715321064}  accuracy:  {82.0}\n",
            "Epoch:  {27}  loss:  {302.03749057650566}  accuracy:  {82.66666666666667}\n",
            "Epoch:  {28}  loss:  {296.52920511364937}  accuracy:  {82.13333333333334}\n",
            "Epoch:  {29}  loss:  {291.0859056264162}  accuracy:  {83.16666666666667}\n",
            "Epoch:  {30}  loss:  {287.12278735637665}  accuracy:  {81.93333333333334}\n",
            "Epoch:  {31}  loss:  {286.24053132534027}  accuracy:  {81.93333333333334}\n",
            "Epoch:  {32}  loss:  {285.5409322679043}  accuracy:  {81.96666666666667}\n",
            "Epoch:  {33}  loss:  {285.0453904271126}  accuracy:  {82.16666666666667}\n",
            "Epoch:  {34}  loss:  {275.6325412392616}  accuracy:  {83.03333333333333}\n",
            "Epoch:  {35}  loss:  {278.1500616669655}  accuracy:  {82.86666666666666}\n",
            "Epoch:  {36}  loss:  {275.48021852970123}  accuracy:  {83.46666666666667}\n",
            "Epoch:  {37}  loss:  {273.46825301647186}  accuracy:  {80.3}\n",
            "Epoch:  {38}  loss:  {271.2642939090729}  accuracy:  {82.3}\n",
            "Epoch:  {39}  loss:  {271.897937476635}  accuracy:  {82.96666666666667}\n",
            "Epoch:  {40}  loss:  {272.35132533311844}  accuracy:  {82.73333333333333}\n",
            "Epoch:  {41}  loss:  {268.97651809453964}  accuracy:  {83.56666666666666}\n",
            "Epoch:  {42}  loss:  {264.7774970829487}  accuracy:  {83.66666666666667}\n",
            "Epoch:  {43}  loss:  {261.57961244881153}  accuracy:  {83.03333333333333}\n",
            "Epoch:  {44}  loss:  {265.0407562851906}  accuracy:  {82.76666666666667}\n",
            "Epoch:  {45}  loss:  {260.8007316291332}  accuracy:  {82.66666666666667}\n",
            "Epoch:  {46}  loss:  {257.06150287389755}  accuracy:  {83.0}\n",
            "Epoch:  {47}  loss:  {262.9288349747658}  accuracy:  {82.53333333333333}\n",
            "Epoch:  {48}  loss:  {262.0013978779316}  accuracy:  {81.43333333333334}\n",
            "Epoch:  {49}  loss:  {258.0671390891075}  accuracy:  {83.33333333333333}\n"
          ]
        }
      ]
    },
    {
      "cell_type": "markdown",
      "source": [
        "## Testing our best trained model\n",
        "\n",
        "\n"
      ],
      "metadata": {
        "id": "MltU5WXbLZUa"
      }
    },
    {
      "cell_type": "code",
      "source": [
        "# making a new model according to saved best states\n",
        "my_model = my_CNN().to(miniCnn.device)\n",
        "my_model.load_state_dict(torch.load(\"best_model.pth\"))\n",
        "my_model.eval()"
      ],
      "metadata": {
        "id": "mU_22-vqK-g_",
        "outputId": "08022ccd-a5d2-4a62-8286-304abbee33a0",
        "colab": {
          "base_uri": "https://localhost:8080/",
          "height": 193
        }
      },
      "execution_count": 1,
      "outputs": [
        {
          "output_type": "error",
          "ename": "NameError",
          "evalue": "name 'my_CNN' is not defined",
          "traceback": [
            "\u001b[0;31m---------------------------------------------------------------------------\u001b[0m",
            "\u001b[0;31mNameError\u001b[0m                                 Traceback (most recent call last)",
            "\u001b[0;32m/tmp/ipython-input-1-2287229112.py\u001b[0m in \u001b[0;36m<cell line: 0>\u001b[0;34m()\u001b[0m\n\u001b[1;32m      1\u001b[0m \u001b[0;31m# making a new model according to saved best states\u001b[0m\u001b[0;34m\u001b[0m\u001b[0;34m\u001b[0m\u001b[0m\n\u001b[0;32m----> 2\u001b[0;31m \u001b[0mmy_model\u001b[0m \u001b[0;34m=\u001b[0m \u001b[0mmy_CNN\u001b[0m\u001b[0;34m(\u001b[0m\u001b[0;34m)\u001b[0m\u001b[0;34m.\u001b[0m\u001b[0mto\u001b[0m\u001b[0;34m(\u001b[0m\u001b[0mminiCnn\u001b[0m\u001b[0;34m.\u001b[0m\u001b[0mdevice\u001b[0m\u001b[0;34m)\u001b[0m\u001b[0;34m\u001b[0m\u001b[0;34m\u001b[0m\u001b[0m\n\u001b[0m\u001b[1;32m      3\u001b[0m \u001b[0mmy_model\u001b[0m\u001b[0;34m.\u001b[0m\u001b[0mload_state_dict\u001b[0m\u001b[0;34m(\u001b[0m\u001b[0mtorch\u001b[0m\u001b[0;34m.\u001b[0m\u001b[0mload\u001b[0m\u001b[0;34m(\u001b[0m\u001b[0;34m\"best_model.pth\"\u001b[0m\u001b[0;34m)\u001b[0m\u001b[0;34m)\u001b[0m\u001b[0;34m\u001b[0m\u001b[0;34m\u001b[0m\u001b[0m\n\u001b[1;32m      4\u001b[0m \u001b[0mmy_model\u001b[0m\u001b[0;34m.\u001b[0m\u001b[0meval\u001b[0m\u001b[0;34m(\u001b[0m\u001b[0;34m)\u001b[0m\u001b[0;34m\u001b[0m\u001b[0;34m\u001b[0m\u001b[0m\n",
            "\u001b[0;31mNameError\u001b[0m: name 'my_CNN' is not defined"
          ]
        }
      ]
    }
  ]
}